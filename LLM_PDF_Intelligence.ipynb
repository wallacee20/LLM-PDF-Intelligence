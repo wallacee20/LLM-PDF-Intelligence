{
  "nbformat": 4,
  "nbformat_minor": 0,
  "metadata": {
    "colab": {
      "provenance": []
    },
    "kernelspec": {
      "name": "python3",
      "display_name": "Python 3"
    },
    "language_info": {
      "name": "python"
    }
  },
  "cells": [
    {
      "cell_type": "code",
      "execution_count": null,
      "metadata": {
        "colab": {
          "base_uri": "https://localhost:8080/"
        },
        "id": "IiMk2yjcIgmP",
        "outputId": "08f9762f-090b-4d7c-fcfa-ac42e2509893"
      },
      "outputs": [
        {
          "output_type": "stream",
          "name": "stdout",
          "text": [
            "\u001b[?25l   \u001b[90m━━━━━━━━━━━━━━━━━━━━━━━━━━━━━━━━━━━━━━━━\u001b[0m \u001b[32m0.0/5.6 MB\u001b[0m \u001b[31m?\u001b[0m eta \u001b[36m-:--:--\u001b[0m\r\u001b[2K   \u001b[91m━━━\u001b[0m\u001b[91m╸\u001b[0m\u001b[90m━━━━━━━━━━━━━━━━━━━━━━━━━━━━━━━━━━━━\u001b[0m \u001b[32m0.5/5.6 MB\u001b[0m \u001b[31m16.3 MB/s\u001b[0m eta \u001b[36m0:00:01\u001b[0m\r\u001b[2K   \u001b[91m━━━━━━━━━━━━━━━━━━━━━━━━━━━━━━━\u001b[0m\u001b[91m╸\u001b[0m\u001b[90m━━━━━━━━\u001b[0m \u001b[32m4.4/5.6 MB\u001b[0m \u001b[31m65.3 MB/s\u001b[0m eta \u001b[36m0:00:01\u001b[0m\r\u001b[2K   \u001b[90m━━━━━━━━━━━━━━━━━━━━━━━━━━━━━━━━━━━━━━━━\u001b[0m \u001b[32m5.6/5.6 MB\u001b[0m \u001b[31m53.9 MB/s\u001b[0m eta \u001b[36m0:00:00\u001b[0m\n",
            "\u001b[?25h  Preparing metadata (setup.py) ... \u001b[?25l\u001b[?25hdone\n",
            "  Building wheel for fpdf (setup.py) ... \u001b[?25l\u001b[?25hdone\n"
          ]
        }
      ],
      "source": [
        "# Instalação das bibliotecas\n",
        "!pip install -q google-generativeai\n",
        "!pip install -q pdfminer.six\n",
        "!pip install -q fpdf"
      ]
    },
    {
      "cell_type": "code",
      "source": [
        "# Importações necessárias\n",
        "import google.generativeai as genai\n",
        "from pdfminer.high_level import extract_text\n",
        "from google.colab import userdata\n",
        "import json\n",
        "from fpdf import FPDF"
      ],
      "metadata": {
        "id": "0IgdbGb1IwRs"
      },
      "execution_count": null,
      "outputs": []
    },
    {
      "cell_type": "code",
      "source": [
        "# Configuração da API Key do Gemini de forma segura\n",
        "try:\n",
        "    # Armazenei a API Key no Colab Secrets com o nome \"GEMINI_API_KEY\"\n",
        "    api_key = userdata.get('GEMINI_API_KEY')\n",
        "    genai.configure(api_key=api_key)\n",
        "    print(\" API Key do Gemini configurada com sucesso!\")\n",
        "except userdata.SecretNotFoundError:\n",
        "    print(' Secret \"GEMINI_API_KEY\" não encontrado. Adicione a chave ao painel de Secrets do Colab.')"
      ],
      "metadata": {
        "colab": {
          "base_uri": "https://localhost:8080/"
        },
        "id": "UZPZzobCI0Tf",
        "outputId": "b40a3251-0f3a-4f27-ae28-a318d98cac24"
      },
      "execution_count": null,
      "outputs": [
        {
          "output_type": "stream",
          "name": "stdout",
          "text": [
            " API Key do Gemini configurada com sucesso!\n"
          ]
        }
      ]
    },
    {
      "cell_type": "code",
      "source": [
        "# Instanciando o modelo Gemini\n",
        "\n",
        "model = genai.GenerativeModel(model_name=\"gemini-2.0-flash\")"
      ],
      "metadata": {
        "id": "ohrQWb_NJRTR"
      },
      "execution_count": null,
      "outputs": []
    },
    {
      "cell_type": "code",
      "source": [
        "# Função para extrair texto do PDF (sem alteração)\n",
        "caminho_pdf = \"/content/Cenário Econômico.pdf\"\n",
        "def extrair_texto_de_pdf(caminho_pdf):\n",
        "    texto_extraido = extract_text(caminho_pdf)\n",
        "    texto_limpo = ' '.join(texto_extraido.split())\n",
        "    return texto_limpo"
      ],
      "metadata": {
        "id": "H7KiWwdUJYM8"
      },
      "execution_count": null,
      "outputs": []
    },
    {
      "cell_type": "code",
      "source": [
        "# Célula 6: Função genérica para chamar a API do Gemini\n",
        "def obter_resposta_gemini(prompt, persona=None):\n",
        "    \"\"\"\n",
        "    Função para enviar um prompt para o modelo Gemini e retornar a resposta.\n",
        "    \"\"\"\n",
        "    # Combina a persona com o prompt, se fornecida.\n",
        "    if persona:\n",
        "        prompt_completo = f\"{persona}\\n\\n{prompt}\"\n",
        "    else:\n",
        "        prompt_completo = prompt\n",
        "\n",
        "    try:\n",
        "        resposta = model.generate_content(prompt_completo)\n",
        "        return resposta.text\n",
        "    except Exception as e:\n",
        "        print(f\"Ocorreu um erro ao chamar a API do Gemini: {e}\")\n",
        "        return None"
      ],
      "metadata": {
        "id": "lsw7fOgCKCUT"
      },
      "execution_count": null,
      "outputs": []
    },
    {
      "cell_type": "code",
      "source": [
        "# Célula 7: Extraindo o texto do arquivo\n",
        "texto_limpo = extrair_texto_de_pdf(caminho_pdf)\n",
        "print(\"📄 Texto extraído do PDF e normalizado.\")"
      ],
      "metadata": {
        "colab": {
          "base_uri": "https://localhost:8080/"
        },
        "id": "222EGriZKK97",
        "outputId": "40ab988f-6ad1-4964-ca1e-31db10030f52"
      },
      "execution_count": null,
      "outputs": [
        {
          "output_type": "stream",
          "name": "stdout",
          "text": [
            "📄 Texto extraído do PDF e normalizado.\n"
          ]
        }
      ]
    },
    {
      "cell_type": "code",
      "source": [
        "texto_limpo"
      ],
      "metadata": {
        "colab": {
          "base_uri": "https://localhost:8080/",
          "height": 140
        },
        "id": "7sCMOmvgLf_7",
        "outputId": "99fd2479-e7a0-4527-d51d-b9f4c68293c8"
      },
      "execution_count": null,
      "outputs": [
        {
          "output_type": "execute_result",
          "data": {
            "text/plain": [
              "'Cenário Global em 2024 O início de 2023 mostrou-se extremamente desafiador, com grandes incertezas sobre o cenário macroeconômico global. Diante da expressiva elevação da inflação, acreditava-se que uma forte desaceleração da atividade seria necessária para desinflacionar as economias, o que demandou um forte ciclo de aperto monetário sincronizado no mundo. Em contrapartida, os riscos financeiros dessa forte alta de juros, como os relacionados à solvência em um contexto de endividamento elevado, geraram preocupações, especialmente após a quebra do Silicon Valley Bank no primeiro semestre do ano. O receio de uma recessão se instalou nos mercados. Mas, contrariando as previsões, terminamos o ano de 2023 com uma atividade resiliente, ainda que em desaceleração, e uma dinâmica desinflacionária muito mais benigna que as expectativas de mercado. Mais surpreendente que a significativa redução da inflação global foi a propagação da desinflação dos bens comercializáveis para os núcleos de inflação, categoria mais correlacionada com os ciclos econômicos e o mercado de trabalho. Em face do contexto atual de convergência da inflação mesmo sem uma forte desaceleração da atividade econômica, o mercado vem aumentando as apostas em um cenário de “pouso suave” no ano que se inicia. Nos Estados Unidos, o ambiente é de rebalanceamento gradual no mercado de trabalho (Figura 1) – o desequilíbrio entre demanda e oferta por trabalhadores recuou a 2,3 milhões em outubro, após atingir um pico de 6 milhões – e atividade ligeiramente mais fraca - após crescer a um ritmo anualizado de cerca de 5%, o quarto trimestre deve ver uma economia com crescimento mais próximo do potencial. O rebalanceamento da atividade aliado ao processo desinflacionário em curso levou o FOMC a mudar sua comunicação em dezembro, sinalizando que cortes na taxa de juros já começaram a ser discutidos e que esse tópico deve ganhar relevância nas próximas reuniões. A mudança de postura do Fed e os dados consistentemente melhores tem levado o mercado a precificar mais de 150 bps de corte em 2024. No Brasil, o cenário econômico não é muito diferente. Após o crescimento extraordinário da agropecuária e expressiva produção na indústria extrativa mineral, em conjunto com uma resiliência maior que o antecipado em setores mais cíclicos da economia, o PIB de 2023 deve crescer em torno de 3% pelo segundo ano consecutivo. Ao mesmo tempo, o recuo da inflação tem sido mais pronunciado que o esperado. No final de 2022, o mercado esperava que a inflação encerrasse 2023 em 5,3%, mas o dado oficial deve fechar o ano quase 1 p.p. abaixo dessa expectativa (Figura 2). Esse cenário embasa o ciclo de flexibilização da política monetária em curso desde agosto, que já promoveu 2 p.p. de cortes acumulados na taxa Selic. Até o final de 2024, o boletim Focus antecipa mais 2.75 p.p. de cortes, levando a Selic a 9% a.a. Uma eventual flexibilização de política monetária promovida pelo Fed pode ampliar ainda mais as apostas de cortes de juros não só no Brasil, mas também em outros emergentes. Na Europa, a inflação tem recuado consideravelmente e a atividade econômica mostrou menos dinamismo. A transmissão da política monetária tem sido rápida,justificando o baixo crescimento em 2023 e inflação corrente abaixo das expectativas de mercado. O ciclo de afrouxamento da política monetária na Zona do Euro também deve se iniciar em 2024, visto que as projeções do BCE indicam a convergência da inflação para a meta em 2025 em um cenário de cortes de 25 pontos-base por reunião a partir de junho, levando a taxa básica de 4.00% a 2.75%. Na China, desenha-se um cenário mais desafiador para o crescimento em 2024. Dados econômicos mostram que a atividade não se recuperou conforme o esperado na reabertura pós-Covid, mesmo com os esforços governamentais para impulsionar o crescimento. Os principais desafios ao crescimento chinês, como a desaceleração evidente do setor imobiliário, devem continuar presentes no ano que se inicia (Figura 3). Já o consumo, que foi o maior impulsionador do crescimento em 2023, deve apresentar moderação uma vez que a baixa base de comparação de 2022 não se fará mais presente. Nosso cenário para a economia brasileira leva em conta um cenário global de afrouxamento de política monetária em países desenvolvidos e a desaceleração moderada da atividade global. De um lado, a desaceleração do crescimento chinês se soma aos fatores climáticos que colocam em risco a produtividade da safra brasileira de grãos em 2024. De outro, a continuidade do ciclo de cortes da Selic, a resiliência do mercado de trabalho e a expressiva desinflação prometem sustentar a renda disponível das famílias. Nossa projeção para o PIB brasileiro de 1,3% em 2024 pondera os riscos para ambos os lados. As demais projeções macroeconômicas encontram-se na tabela abaixo.'"
            ],
            "application/vnd.google.colaboratory.intrinsic+json": {
              "type": "string"
            }
          },
          "metadata": {},
          "execution_count": 8
        }
      ]
    },
    {
      "cell_type": "code",
      "source": [
        "# Célula 8: Prompt para extração de entidades\n",
        "prompt_entidades = f\"\"\"\n",
        "Sua tarefa é extrair todas as economias (países ou blocos econômicos como 'Europa') citadas no texto abaixo.\n",
        "\n",
        "Texto:\n",
        "'''{texto_limpo}'''\n",
        "\n",
        "Observação: se uma economia for citada mais de uma vez, inclua-a apenas uma vez.\n",
        "Formate sua resposta como uma lista JSON, como no exemplo: [\"economia_1\", \"economia_2\", \"economia_3\"]\n",
        "Responda apenas com a lista JSON, sem nenhum texto ou formatação adicional.\n",
        "\"\"\""
      ],
      "metadata": {
        "id": "osOLbc-xMCmB"
      },
      "execution_count": null,
      "outputs": []
    },
    {
      "cell_type": "code",
      "source": [
        "# Célula 9: Obtendo a resposta e processando\n",
        "print(\"🔎 Extraindo entidades com Gemini...\")\n",
        "resposta_entidades_str = obter_resposta_gemini(prompt_entidades)"
      ],
      "metadata": {
        "colab": {
          "base_uri": "https://localhost:8080/",
          "height": 34
        },
        "id": "Y8iunfrUMIBa",
        "outputId": "b4997308-d8dc-4708-aea5-a095069f3713"
      },
      "execution_count": null,
      "outputs": [
        {
          "output_type": "stream",
          "name": "stdout",
          "text": [
            "🔎 Extraindo entidades com Gemini...\n"
          ]
        }
      ]
    },
    {
      "cell_type": "code",
      "source": [
        "resposta_entidades_str"
      ],
      "metadata": {
        "colab": {
          "base_uri": "https://localhost:8080/",
          "height": 36
        },
        "id": "D-dZzVQfUZW8",
        "outputId": "c165425e-82e4-4dbf-a146-0c9ebfffb046"
      },
      "execution_count": null,
      "outputs": [
        {
          "output_type": "execute_result",
          "data": {
            "text/plain": [
              "'[\"Estados Unidos\", \"Brasil\", \"Europa\", \"China\"]'"
            ],
            "application/vnd.google.colaboratory.intrinsic+json": {
              "type": "string"
            }
          },
          "metadata": {},
          "execution_count": 11
        }
      ]
    },
    {
      "cell_type": "code",
      "source": [
        "# Célula 10: Convertendo a string JSON em uma lista Python de forma segura\n",
        "try:\n",
        "    lista_economias = json.loads(resposta_entidades_str)\n",
        "    print(f\"Economias citadas no texto: {lista_economias}\")\n",
        "except (json.JSONDecodeError, TypeError):\n",
        "    print(\" Falha ao decodificar a resposta. Tentando extrair a lista manualmente.\")\n",
        "    # Fallback caso a resposta não seja um JSON perfeito, embora raro com os prompts corretos\n",
        "    lista_economias = eval(resposta_entidades_str)\n",
        "    print(f\"Economias citadas no texto (via eval): {lista_economias}\")\n"
      ],
      "metadata": {
        "colab": {
          "base_uri": "https://localhost:8080/"
        },
        "id": "Pn__3StHUfCM",
        "outputId": "965ca004-1780-4c1b-be38-183a70ca837f"
      },
      "execution_count": null,
      "outputs": [
        {
          "output_type": "stream",
          "name": "stdout",
          "text": [
            "Economias citadas no texto: ['Estados Unidos', 'Brasil', 'Europa', 'China']\n"
          ]
        }
      ]
    },
    {
      "cell_type": "code",
      "source": [
        "# Célula 11: Preparando a lista para o próximo prompt\n",
        "resposta_em_topicos = '* ' + '\\n* '.join(lista_economias)"
      ],
      "metadata": {
        "id": "2gjfeiejUnsH"
      },
      "execution_count": null,
      "outputs": []
    },
    {
      "cell_type": "code",
      "source": [
        "print(resposta_em_topicos)"
      ],
      "metadata": {
        "colab": {
          "base_uri": "https://localhost:8080/"
        },
        "id": "6F7bXChfUqVI",
        "outputId": "3caf6688-13bf-40c6-8c1b-bb49c7b6fba1"
      },
      "execution_count": null,
      "outputs": [
        {
          "output_type": "stream",
          "name": "stdout",
          "text": [
            "* Estados Unidos\n",
            "* Brasil\n",
            "* Europa\n",
            "* China\n"
          ]
        }
      ]
    },
    {
      "cell_type": "code",
      "source": [
        "# Célula 12: Prompt combinado para análise de sentimentos e resumo\n",
        "prompt_sentimento_e_resumo = f\"\"\"\n",
        "Sua tarefa é analisar o sentimento e criar um resumo para cada uma das economias listadas, com base no texto fornecido.\n",
        "\n",
        "Economias para Análise:\n",
        "{resposta_em_topicos}\n",
        "\n",
        "Texto de Referência:\n",
        "'''{texto_limpo}'''\n",
        "\n",
        "Instruções:\n",
        "1.  Para cada economia, determine o sentimento geral (positivo, negativo ou neutro) com base no contexto.\n",
        "2.  Para cada economia, escreva um resumo conciso de um parágrafo.\n",
        "3.  Formate sua resposta como um único objeto JSON. As chaves devem ser os nomes das economias. O valor para cada chave deve ser outro objeto contendo \"sentimento\" e \"resumo\".\n",
        "\n",
        "Exemplo de formato da resposta:\n",
        "{{\n",
        "  \"economia_1\": {{\n",
        "    \"sentimento\": \"positivo\",\n",
        "    \"resumo\": \"O resumo da economia 1 vai aqui.\"\n",
        "  }},\n",
        "  \"economia_2\": {{\n",
        "    \"sentimento\": \"negativo\",\n",
        "    \"resumo\": \"O resumo da economia 2 vai aqui.\"\n",
        "  }}\n",
        "}}\n",
        "\n",
        "Responda apenas com o objeto JSON.\n",
        "\"\"\""
      ],
      "metadata": {
        "id": "BwyhOwnSUzUZ"
      },
      "execution_count": null,
      "outputs": []
    },
    {
      "cell_type": "code",
      "source": [
        "prompt_sentimento_e_resumo"
      ],
      "metadata": {
        "id": "q-oCj2Y8VIHZ",
        "colab": {
          "base_uri": "https://localhost:8080/",
          "height": 140
        },
        "outputId": "067f8e9f-2ff0-47b8-947b-2c68b2f6fed1"
      },
      "execution_count": null,
      "outputs": [
        {
          "output_type": "execute_result",
          "data": {
            "text/plain": [
              "'\\nSua tarefa é analisar o sentimento e criar um resumo para cada uma das economias listadas, com base no texto fornecido.\\n\\nEconomias para Análise:\\n* Estados Unidos\\n* Brasil\\n* Europa\\n* China\\n\\nTexto de Referência:\\n\\'\\'\\'Cenário Global em 2024 O início de 2023 mostrou-se extremamente desafiador, com grandes incertezas sobre o cenário macroeconômico global. Diante da expressiva elevação da inflação, acreditava-se que uma forte desaceleração da atividade seria necessária para desinflacionar as economias, o que demandou um forte ciclo de aperto monetário sincronizado no mundo. Em contrapartida, os riscos financeiros dessa forte alta de juros, como os relacionados à solvência em um contexto de endividamento elevado, geraram preocupações, especialmente após a quebra do Silicon Valley Bank no primeiro semestre do ano. O receio de uma recessão se instalou nos mercados. Mas, contrariando as previsões, terminamos o ano de 2023 com uma atividade resiliente, ainda que em desaceleração, e uma dinâmica desinflacionária muito mais benigna que as expectativas de mercado. Mais surpreendente que a significativa redução da inflação global foi a propagação da desinflação dos bens comercializáveis para os núcleos de inflação, categoria mais correlacionada com os ciclos econômicos e o mercado de trabalho. Em face do contexto atual de convergência da inflação mesmo sem uma forte desaceleração da atividade econômica, o mercado vem aumentando as apostas em um cenário de “pouso suave” no ano que se inicia. Nos Estados Unidos, o ambiente é de rebalanceamento gradual no mercado de trabalho (Figura 1) – o desequilíbrio entre demanda e oferta por trabalhadores recuou a 2,3 milhões em outubro, após atingir um pico de 6 milhões – e atividade ligeiramente mais fraca - após crescer a um ritmo anualizado de cerca de 5%, o quarto trimestre deve ver uma economia com crescimento mais próximo do potencial. O rebalanceamento da atividade aliado ao processo desinflacionário em curso levou o FOMC a mudar sua comunicação em dezembro, sinalizando que cortes na taxa de juros já começaram a ser discutidos e que esse tópico deve ganhar relevância nas próximas reuniões. A mudança de postura do Fed e os dados consistentemente melhores tem levado o mercado a precificar mais de 150 bps de corte em 2024. No Brasil, o cenário econômico não é muito diferente. Após o crescimento extraordinário da agropecuária e expressiva produção na indústria extrativa mineral, em conjunto com uma resiliência maior que o antecipado em setores mais cíclicos da economia, o PIB de 2023 deve crescer em torno de 3% pelo segundo ano consecutivo. Ao mesmo tempo, o recuo da inflação tem sido mais pronunciado que o esperado. No final de 2022, o mercado esperava que a inflação encerrasse 2023 em 5,3%, mas o dado oficial deve fechar o ano quase 1 p.p. abaixo dessa expectativa (Figura 2). Esse cenário embasa o ciclo de flexibilização da política monetária em curso desde agosto, que já promoveu 2 p.p. de cortes acumulados na taxa Selic. Até o final de 2024, o boletim Focus antecipa mais 2.75 p.p. de cortes, levando a Selic a 9% a.a. Uma eventual flexibilização de política monetária promovida pelo Fed pode ampliar ainda mais as apostas de cortes de juros não só no Brasil, mas também em outros emergentes. Na Europa, a inflação tem recuado consideravelmente e a atividade econômica mostrou menos dinamismo. A transmissão da política monetária tem sido rápida,justificando o baixo crescimento em 2023 e inflação corrente abaixo das expectativas de mercado. O ciclo de afrouxamento da política monetária na Zona do Euro também deve se iniciar em 2024, visto que as projeções do BCE indicam a convergência da inflação para a meta em 2025 em um cenário de cortes de 25 pontos-base por reunião a partir de junho, levando a taxa básica de 4.00% a 2.75%. Na China, desenha-se um cenário mais desafiador para o crescimento em 2024. Dados econômicos mostram que a atividade não se recuperou conforme o esperado na reabertura pós-Covid, mesmo com os esforços governamentais para impulsionar o crescimento. Os principais desafios ao crescimento chinês, como a desaceleração evidente do setor imobiliário, devem continuar presentes no ano que se inicia (Figura 3). Já o consumo, que foi o maior impulsionador do crescimento em 2023, deve apresentar moderação uma vez que a baixa base de comparação de 2022 não se fará mais presente. Nosso cenário para a economia brasileira leva em conta um cenário global de afrouxamento de política monetária em países desenvolvidos e a desaceleração moderada da atividade global. De um lado, a desaceleração do crescimento chinês se soma aos fatores climáticos que colocam em risco a produtividade da safra brasileira de grãos em 2024. De outro, a continuidade do ciclo de cortes da Selic, a resiliência do mercado de trabalho e a expressiva desinflação prometem sustentar a renda disponível das famílias. Nossa projeção para o PIB brasileiro de 1,3% em 2024 pondera os riscos para ambos os lados. As demais projeções macroeconômicas encontram-se na tabela abaixo.\\'\\'\\'\\n\\nInstruções:\\n1.  Para cada economia, determine o sentimento geral (positivo, negativo ou neutro) com base no contexto.\\n2.  Para cada economia, escreva um resumo conciso de um parágrafo.\\n3.  Formate sua resposta como um único objeto JSON. As chaves devem ser os nomes das economias. O valor para cada chave deve ser outro objeto contendo \"sentimento\" e \"resumo\".\\n\\nExemplo de formato da resposta:\\n{\\n  \"economia_1\": {\\n    \"sentimento\": \"positivo\",\\n    \"resumo\": \"O resumo da economia 1 vai aqui.\"\\n  },\\n  \"economia_2\": {\\n    \"sentimento\": \"negativo\",\\n    \"resumo\": \"O resumo da economia 2 vai aqui.\"\\n  }\\n}\\n\\nResponda apenas com o objeto JSON.\\n'"
            ],
            "application/vnd.google.colaboratory.intrinsic+json": {
              "type": "string"
            }
          },
          "metadata": {},
          "execution_count": 16
        }
      ]
    },
    {
      "cell_type": "code",
      "source": [
        "# Célula 13: Definindo a persona e obtendo a resposta\n",
        "print(\" Analisando sentimentos e criando resumos...\")\n",
        "persona_economista = \"Você é um economista sênior com vasta experiência em análise macroeconômica global.\"\n",
        "resposta_completa_str = obter_resposta_gemini(prompt_sentimento_e_resumo, persona=persona_economista)"
      ],
      "metadata": {
        "colab": {
          "base_uri": "https://localhost:8080/",
          "height": 34
        },
        "id": "XmTUhzLCVVv2",
        "outputId": "4c9f4a22-94f1-40d4-805b-729754514bdc"
      },
      "execution_count": null,
      "outputs": [
        {
          "output_type": "stream",
          "name": "stdout",
          "text": [
            "📊 Analisando sentimentos e criando resumos...\n"
          ]
        }
      ]
    },
    {
      "cell_type": "code",
      "source": [
        "resposta_completa_str"
      ],
      "metadata": {
        "colab": {
          "base_uri": "https://localhost:8080/",
          "height": 140
        },
        "id": "n9K5A36rVbBT",
        "outputId": "e5236a90-c9f5-43be-9bd3-350fd6a3cbba"
      },
      "execution_count": null,
      "outputs": [
        {
          "output_type": "execute_result",
          "data": {
            "text/plain": [
              "'```json\\n{\\n  \"Estados Unidos\": {\\n    \"sentimento\": \"positivo\",\\n    \"resumo\": \"A economia dos EUA apresenta um cenário de \\'pouso suave\\' com rebalanceamento gradual no mercado de trabalho e uma atividade ligeiramente mais fraca, mas ainda em crescimento. A inflação em declínio levou o FOMC a sinalizar possíveis cortes nas taxas de juros em 2024, com o mercado precificando reduções significativas. O ambiente geral é de otimismo cauteloso, impulsionado pela desinflação e pela expectativa de uma política monetária mais flexível.\"\\n  },\\n  \"Brasil\": {\\n    \"sentimento\": \"positivo\",\\n    \"resumo\": \"O Brasil demonstra resiliência econômica, com um crescimento do PIB em torno de 3% pelo segundo ano consecutivo e uma inflação mais baixa que o esperado. Esse cenário favorece o ciclo de flexibilização da política monetária em curso, com expectativas de cortes adicionais na taxa Selic. A perspectiva é positiva, sustentada pela continuidade dos cortes na Selic, resiliência do mercado de trabalho e desinflação, embora existam riscos relacionados à desaceleração chinesa e fatores climáticos.\"\\n  },\\n  \"Europa\": {\\n    \"sentimento\": \"neutro\",\\n    \"resumo\": \"A Europa apresenta um cenário de inflação em recuo e atividade econômica fraca. A transmissão da política monetária tem sido rápida, justificando o baixo crescimento em 2023 e inflação abaixo das expectativas. A expectativa é de que o ciclo de afrouxamento da política monetária se inicie em 2024, com projeções de convergência da inflação para a meta em 2025, indicando um panorama de estabilização gradual.\"\\n  },\\n  \"China\": {\\n    \"sentimento\": \"negativo\",\\n    \"resumo\": \"A China enfrenta um cenário de crescimento desafiador em 2024, com a atividade não se recuperando conforme o esperado após a reabertura pós-Covid. A desaceleração do setor imobiliário e a moderação do consumo, que foi o principal impulsionador do crescimento em 2023, representam obstáculos significativos. Apesar dos esforços governamentais, a perspectiva é de um crescimento mais lento e com desafios estruturais persistentes.\"\\n  }\\n}\\n```'"
            ],
            "application/vnd.google.colaboratory.intrinsic+json": {
              "type": "string"
            }
          },
          "metadata": {},
          "execution_count": 18
        }
      ]
    },
    {
      "cell_type": "code",
      "source": [
        "# Célula 14: Processando a resposta JSON\n",
        "\n",
        "if resposta_completa_str:\n",
        "    try:\n",
        "        # Encontra o início do JSON (o primeiro '{') e o fim (o último '}')\n",
        "        inicio_json = resposta_completa_str.find('{')\n",
        "        fim_json = resposta_completa_str.rfind('}') + 1\n",
        "\n",
        "        # Extrai apenas a parte que corresponde ao JSON\n",
        "        json_str_limpo = resposta_completa_str[inicio_json:fim_json]\n",
        "\n",
        "\n",
        "        # Processa a string JSON limpa\n",
        "        analise_completa = json.loads(json_str_limpo)\n",
        "\n",
        "        print(\" Análise e resumo concluídos com sucesso!\")\n",
        "\n",
        "        # Exemplo de como acessar os dados (sem alteração aqui)\n",
        "        print(\"\\nAnálise para o Brasil:\")\n",
        "        print(f\"  Sentimento: {analise_completa['Brasil']['sentimento']}\")\n",
        "        print(f\"  Resumo: {analise_completa['Brasil']['resumo']}\")\n",
        "\n",
        "    except (json.JSONDecodeError, TypeError, KeyError) as e:\n",
        "        print(\" Falha ao processar a resposta JSON do Gemini.\")\n",
        "        print(f\"Tipo de erro: {type(e).__name__}\")\n",
        "        print(\"\\nResposta recebida (bruta):\")\n",
        "        print(resposta_completa_str)\n",
        "else:\n",
        "    print(\" Nenhuma resposta foi recebida da API.\")"
      ],
      "metadata": {
        "colab": {
          "base_uri": "https://localhost:8080/"
        },
        "id": "m93LClgyVift",
        "outputId": "e229beff-5ff3-43c3-ac06-50b04226eedd"
      },
      "execution_count": null,
      "outputs": [
        {
          "output_type": "stream",
          "name": "stdout",
          "text": [
            " Análise e resumo concluídos com sucesso!\n",
            "\n",
            "Análise para o Brasil:\n",
            "  Sentimento: positivo\n",
            "  Resumo: O Brasil demonstra resiliência econômica, com um crescimento do PIB em torno de 3% pelo segundo ano consecutivo e uma inflação mais baixa que o esperado. Esse cenário favorece o ciclo de flexibilização da política monetária em curso, com expectativas de cortes adicionais na taxa Selic. A perspectiva é positiva, sustentada pela continuidade dos cortes na Selic, resiliência do mercado de trabalho e desinflação, embora existam riscos relacionados à desaceleração chinesa e fatores climáticos.\n"
          ]
        }
      ]
    },
    {
      "cell_type": "code",
      "source": [
        "# Célula 15: Reescrevendo para público técnico/especializado\n",
        "print(\"\\n Adaptando resumos para público técnico...\")\n",
        "resumo_tecnico = {}\n",
        "persona_editor_tecnico = \"Você é um editor experiente de uma revista técnica focada em economia. Reescreva o texto a seguir mantendo a precisão técnica e um tom formal e enxuta.\"\n",
        "\n",
        "for economia, dados in analise_completa.items():\n",
        "    resumo_original = dados['resumo']\n",
        "    prompt_comunicacao = f\"Reescreva o seguinte texto para um público de especialistas em economia:\\n\\n'''{resumo_original}'''\"\n",
        "    resumo_reescrito = obter_resposta_gemini(prompt_comunicacao, persona=persona_editor_tecnico)\n",
        "    resumo_tecnico[economia] = resumo_reescrito\n",
        "\n",
        "print(\"Resumo técnico para a Europa:\", resumo_tecnico.get(\"Europa\"))"
      ],
      "metadata": {
        "colab": {
          "base_uri": "https://localhost:8080/",
          "height": 106
        },
        "id": "uOGio748V8Kb",
        "outputId": "fa7d366c-e09e-46aa-886c-8714f895f4bf"
      },
      "execution_count": null,
      "outputs": [
        {
          "output_type": "stream",
          "name": "stdout",
          "text": [
            "\n",
            " Adaptando resumos para público técnico...\n",
            "Resumo técnico para a Europa: \"A economia europeia exibe um quadro de desinflação concomitante à moderação da atividade econômica. A rápida transmissão da política monetária implementada justifica o crescimento aquém do potencial observado em 2023 e a subestimação da trajetória inflacionária. Antecipa-se o início do ciclo de flexibilização monetária em 2024, com projeções indicando a convergência da inflação à meta estabelecida em 2025, sinalizando uma estabilização gradual do cenário macroeconômico.\"\n",
            "\n"
          ]
        }
      ]
    },
    {
      "cell_type": "code",
      "source": [
        "# Célula 16: Reescrevendo para público geral/leigo\n",
        "print(\"\\n Adaptando resumos para público geral...\")\n",
        "resumo_leigo = {}\n",
        "persona_editor_geral = \"Você é um editor de uma revista de notícias para o público geral. Reescreva o texto a seguir em uma linguagem simples, enxuta e acessível, explicando termos complexos se necessário.\"\n",
        "\n",
        "for economia, dados in analise_completa.items():\n",
        "    resumo_original = dados['resumo']\n",
        "    prompt_comunicacao = f\"Reescreva o seguinte texto para um público sem conhecimento de economia:\\n\\n'''{resumo_original}'''\"\n",
        "    resumo_reescrito = obter_resposta_gemini(prompt_comunicacao, persona=persona_editor_geral)\n",
        "    resumo_leigo[economia] = resumo_reescrito\n",
        "\n",
        "print(\"Resumo para leigos sobre a Europa:\", resumo_leigo.get(\"Europa\"))"
      ],
      "metadata": {
        "colab": {
          "base_uri": "https://localhost:8080/",
          "height": 280
        },
        "id": "oJq2qq8ZWIn1",
        "outputId": "b94cdbf3-4cbd-43ac-96f7-7262f444ecbe"
      },
      "execution_count": null,
      "outputs": [
        {
          "output_type": "stream",
          "name": "stdout",
          "text": [
            "\n",
            "✍️ Adaptando resumos para público geral...\n",
            "Resumo para leigos sobre a Europa: **A Europa em Apuros: Inflação caindo, mas economia fraca**\n",
            "\n",
            "A Europa está passando por um momento delicado. Os preços dos produtos e serviços (a chamada **inflação**) estão finalmente começando a cair, o que é uma boa notícia. No entanto, a economia não está indo bem.\n",
            "\n",
            "Para entender o que está acontecendo, pense assim: o **Banco Central Europeu** (o banco dos bancos na Europa) tem usado uma ferramenta chamada **política monetária** para controlar a inflação. Essa ferramenta, como aumentar ou diminuir as taxas de juros, tem funcionado mais rápido do que o esperado.\n",
            "\n",
            "O resultado é que a economia europeia cresceu pouco em 2023, e a inflação caiu mais do que se imaginava. Isso mostra que as medidas tomadas pelo Banco Central tiveram um impacto forte e rápido.\n",
            "\n",
            "O que esperar para o futuro? A previsão é que o Banco Central Europeu comece a **aliviar as restrições financeiras** em 2024. Isso significa, por exemplo, baixar as taxas de juros, o que pode estimular a economia.\n",
            "\n",
            "A expectativa é que a inflação volte a um nível considerado ideal em 2025. Ou seja, a situação deve se estabilizar aos poucos, mas ainda levará algum tempo. Em resumo, a Europa está em um processo lento e gradual de recuperação.\n",
            "\n"
          ]
        }
      ]
    },
    {
      "cell_type": "code",
      "source": [
        "# Célula 17: Função para gerar o PDF (levemente ajustada)\n",
        "def salvar_dicionario_em_pdf(dicionario_resumos, dicionario_original_analise, caminho_pdf, tipo_resumo):\n",
        "    pdf = FPDF()\n",
        "    pdf.add_page()\n",
        "    pdf.set_font(\"Arial\", style='B', size=16)\n",
        "    pdf.cell(0, 10, f\"Resumo Econômico - {tipo_resumo}\", ln=True, align='C')\n",
        "    pdf.ln(10)\n",
        "\n",
        "    for pais, resumo in dicionario_resumos.items():\n",
        "        # Acessa o sentimento do dicionário original\n",
        "        sentimento = dicionario_original_analise.get(pais, {}).get('sentimento', 'Neutro')\n",
        "\n",
        "        pdf.set_font(\"Arial\", style='BU', size=12)\n",
        "        pdf.cell(0, 8, f\"{pais}\", ln=True)\n",
        "\n",
        "        pdf.set_font(\"Arial\", style='I', size=10)\n",
        "        pdf.cell(0, 6, f\"Sentimento: {sentimento.title()}\", ln=True)\n",
        "\n",
        "        pdf.set_font(\"Arial\", size=10)\n",
        "        # Usando multi_cell para texto que pode quebrar linha e corrigindo a codificação\n",
        "        pdf.multi_cell(0, 6, resumo)\n",
        "        pdf.ln()\n",
        "\n",
        "    pdf.output(caminho_pdf)\n",
        "    print(f\"📄 PDF '{caminho_pdf}' gerado com sucesso.\")\n",
        "\n",
        "# Gerando os dois relatórios\n",
        "salvar_dicionario_em_pdf(resumo_tecnico, analise_completa, \"resumos_paises_tecnico.pdf\", \"Versão Técnica\")\n",
        "salvar_dicionario_em_pdf(resumo_leigo, analise_completa, \"resumos_paises_leigo.pdf\", \"Versão para o Público Geral\")"
      ],
      "metadata": {
        "colab": {
          "base_uri": "https://localhost:8080/"
        },
        "id": "GcEdGVX1WKA6",
        "outputId": "68ce9f9d-945e-4e20-fea8-983276d835cb"
      },
      "execution_count": null,
      "outputs": [
        {
          "output_type": "stream",
          "name": "stdout",
          "text": [
            "📄 PDF 'resumos_paises_tecnico.pdf' gerado com sucesso.\n",
            "📄 PDF 'resumos_paises_leigo.pdf' gerado com sucesso.\n"
          ]
        }
      ]
    }
  ]
}